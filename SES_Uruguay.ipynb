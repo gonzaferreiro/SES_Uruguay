{
 "cells": [
  {
   "cell_type": "code",
   "execution_count": 287,
   "metadata": {},
   "outputs": [],
   "source": [
    "import pandas as pd\n",
    "import pyreadstat\n",
    "import matplotlib.pyplot as plt\n",
    "import seaborn as sns\n",
    "import numpy as np\n",
    "import warnings\n",
    "from pandas.core.common import SettingWithCopyWarning\n",
    "warnings.simplefilter(action=\"ignore\", category=SettingWithCopyWarning)"
   ]
  },
  {
   "cell_type": "code",
   "execution_count": 234,
   "metadata": {},
   "outputs": [],
   "source": [
    "df, meta = pyreadstat.read_sav('Bases ECH 2018_DAT/H_2018_Terceros.sav')"
   ]
  },
  {
   "cell_type": "code",
   "execution_count": 235,
   "metadata": {},
   "outputs": [
    {
     "data": {
      "text/plain": [
       "(42282, 164)"
      ]
     },
     "execution_count": 235,
     "metadata": {},
     "output_type": "execute_result"
    }
   ],
   "source": [
    "df.shape"
   ]
  },
  {
   "cell_type": "code",
   "execution_count": 130,
   "metadata": {},
   "outputs": [
    {
     "name": "stdout",
     "output_type": "stream",
     "text": [
      "<class 'pandas.core.frame.DataFrame'>\n",
      "RangeIndex: 42282 entries, 0 to 42281\n",
      "Columns: 164 entries, anio to pobre06\n",
      "dtypes: float64(156), object(8)\n",
      "memory usage: 52.9+ MB\n"
     ]
    }
   ],
   "source": [
    "df.info()"
   ]
  },
  {
   "cell_type": "code",
   "execution_count": 578,
   "metadata": {},
   "outputs": [
    {
     "data": {
      "text/html": [
       "<div>\n",
       "<style scoped>\n",
       "    .dataframe tbody tr th:only-of-type {\n",
       "        vertical-align: middle;\n",
       "    }\n",
       "\n",
       "    .dataframe tbody tr th {\n",
       "        vertical-align: top;\n",
       "    }\n",
       "\n",
       "    .dataframe thead th {\n",
       "        text-align: right;\n",
       "    }\n",
       "</style>\n",
       "<table border=\"1\" class=\"dataframe\">\n",
       "  <thead>\n",
       "    <tr style=\"text-align: right;\">\n",
       "      <th></th>\n",
       "      <th>anio</th>\n",
       "      <th>numero</th>\n",
       "      <th>dpto</th>\n",
       "      <th>nomdpto</th>\n",
       "      <th>secc</th>\n",
       "      <th>segm</th>\n",
       "      <th>locagr</th>\n",
       "      <th>nom_locagr</th>\n",
       "      <th>ccz</th>\n",
       "      <th>barrio</th>\n",
       "      <th>...</th>\n",
       "      <th>HT13</th>\n",
       "      <th>ht14</th>\n",
       "      <th>ht19</th>\n",
       "      <th>lp_06</th>\n",
       "      <th>li_06</th>\n",
       "      <th>indig06</th>\n",
       "      <th>YHOG</th>\n",
       "      <th>HT11</th>\n",
       "      <th>YSVL</th>\n",
       "      <th>pobre06</th>\n",
       "    </tr>\n",
       "  </thead>\n",
       "  <tbody>\n",
       "    <tr>\n",
       "      <th>0</th>\n",
       "      <td>2018</td>\n",
       "      <td>2018034682</td>\n",
       "      <td>1.0</td>\n",
       "      <td>MONTEVIDEO</td>\n",
       "      <td>99</td>\n",
       "      <td>007</td>\n",
       "      <td>010</td>\n",
       "      <td>Montevideo</td>\n",
       "      <td>9.0</td>\n",
       "      <td>16.0</td>\n",
       "      <td>...</td>\n",
       "      <td>7000.0</td>\n",
       "      <td>0.0</td>\n",
       "      <td>6.0</td>\n",
       "      <td>62720.800808</td>\n",
       "      <td>3403.0</td>\n",
       "      <td>0.0</td>\n",
       "      <td>6117.0</td>\n",
       "      <td>43254.92</td>\n",
       "      <td>36254.92</td>\n",
       "      <td>1.0</td>\n",
       "    </tr>\n",
       "    <tr>\n",
       "      <th>1</th>\n",
       "      <td>2018</td>\n",
       "      <td>2018044076</td>\n",
       "      <td>11.0</td>\n",
       "      <td>PAYSANDU</td>\n",
       "      <td></td>\n",
       "      <td></td>\n",
       "      <td>020</td>\n",
       "      <td>Paysandu y otras</td>\n",
       "      <td>0.0</td>\n",
       "      <td>0.0</td>\n",
       "      <td>...</td>\n",
       "      <td>6000.0</td>\n",
       "      <td>0.0</td>\n",
       "      <td>1.0</td>\n",
       "      <td>8510.000000</td>\n",
       "      <td>2997.0</td>\n",
       "      <td>0.0</td>\n",
       "      <td>6013.0</td>\n",
       "      <td>12534.29</td>\n",
       "      <td>6534.29</td>\n",
       "      <td>0.0</td>\n",
       "    </tr>\n",
       "    <tr>\n",
       "      <th>2</th>\n",
       "      <td>2018</td>\n",
       "      <td>2018026927</td>\n",
       "      <td>11.0</td>\n",
       "      <td>PAYSANDU</td>\n",
       "      <td></td>\n",
       "      <td></td>\n",
       "      <td>020</td>\n",
       "      <td>Paysandu y otras</td>\n",
       "      <td>0.0</td>\n",
       "      <td>0.0</td>\n",
       "      <td>...</td>\n",
       "      <td>7000.0</td>\n",
       "      <td>0.0</td>\n",
       "      <td>3.0</td>\n",
       "      <td>22067.315006</td>\n",
       "      <td>2972.0</td>\n",
       "      <td>0.0</td>\n",
       "      <td>4010.0</td>\n",
       "      <td>33926.69</td>\n",
       "      <td>26926.69</td>\n",
       "      <td>0.0</td>\n",
       "    </tr>\n",
       "    <tr>\n",
       "      <th>3</th>\n",
       "      <td>2018</td>\n",
       "      <td>2018043408</td>\n",
       "      <td>11.0</td>\n",
       "      <td>PAYSANDU</td>\n",
       "      <td></td>\n",
       "      <td></td>\n",
       "      <td>020</td>\n",
       "      <td>Paysandu y otras</td>\n",
       "      <td>0.0</td>\n",
       "      <td>0.0</td>\n",
       "      <td>...</td>\n",
       "      <td>5000.0</td>\n",
       "      <td>0.0</td>\n",
       "      <td>2.0</td>\n",
       "      <td>15628.807028</td>\n",
       "      <td>3002.0</td>\n",
       "      <td>0.0</td>\n",
       "      <td>2017.0</td>\n",
       "      <td>52510.47</td>\n",
       "      <td>47510.47</td>\n",
       "      <td>0.0</td>\n",
       "    </tr>\n",
       "    <tr>\n",
       "      <th>4</th>\n",
       "      <td>2018</td>\n",
       "      <td>2018038338</td>\n",
       "      <td>1.0</td>\n",
       "      <td>MONTEVIDEO</td>\n",
       "      <td>11</td>\n",
       "      <td>017</td>\n",
       "      <td>010</td>\n",
       "      <td>Montevideo</td>\n",
       "      <td>9.0</td>\n",
       "      <td>24.0</td>\n",
       "      <td>...</td>\n",
       "      <td>12000.0</td>\n",
       "      <td>0.0</td>\n",
       "      <td>2.0</td>\n",
       "      <td>24586.357739</td>\n",
       "      <td>3377.0</td>\n",
       "      <td>0.0</td>\n",
       "      <td>2438.0</td>\n",
       "      <td>25644.27</td>\n",
       "      <td>13644.27</td>\n",
       "      <td>0.0</td>\n",
       "    </tr>\n",
       "  </tbody>\n",
       "</table>\n",
       "<p>5 rows × 164 columns</p>\n",
       "</div>"
      ],
      "text/plain": [
       "   anio      numero  dpto     nomdpto secc segm locagr        nom_locagr  ccz  \\\n",
       "0  2018  2018034682   1.0  MONTEVIDEO   99  007    010        Montevideo  9.0   \n",
       "1  2018  2018044076  11.0    PAYSANDU              020  Paysandu y otras  0.0   \n",
       "2  2018  2018026927  11.0    PAYSANDU              020  Paysandu y otras  0.0   \n",
       "3  2018  2018043408  11.0    PAYSANDU              020  Paysandu y otras  0.0   \n",
       "4  2018  2018038338   1.0  MONTEVIDEO   11  017    010        Montevideo  9.0   \n",
       "\n",
       "   barrio   ...        HT13  ht14  ht19         lp_06   li_06  indig06  \\\n",
       "0    16.0   ...      7000.0   0.0   6.0  62720.800808  3403.0      0.0   \n",
       "1     0.0   ...      6000.0   0.0   1.0   8510.000000  2997.0      0.0   \n",
       "2     0.0   ...      7000.0   0.0   3.0  22067.315006  2972.0      0.0   \n",
       "3     0.0   ...      5000.0   0.0   2.0  15628.807028  3002.0      0.0   \n",
       "4    24.0   ...     12000.0   0.0   2.0  24586.357739  3377.0      0.0   \n",
       "\n",
       "     YHOG      HT11      YSVL  pobre06  \n",
       "0  6117.0  43254.92  36254.92      1.0  \n",
       "1  6013.0  12534.29   6534.29      0.0  \n",
       "2  4010.0  33926.69  26926.69      0.0  \n",
       "3  2017.0  52510.47  47510.47      0.0  \n",
       "4  2438.0  25644.27  13644.27      0.0  \n",
       "\n",
       "[5 rows x 164 columns]"
      ]
     },
     "execution_count": 578,
     "metadata": {},
     "output_type": "execute_result"
    }
   ],
   "source": [
    "df.head()"
   ]
  },
  {
   "cell_type": "code",
   "execution_count": 99,
   "metadata": {},
   "outputs": [],
   "source": [
    "ses = []\n",
    "for value, key in zip(df[df.estred13 < 6].iloc[:,0:15].estred13.value_counts().values,\n",
    "                df[df.estred13 < 6].iloc[:,0:15].estred13.value_counts().keys()):\n",
    "    ses.append((key,value/df[df.estred13 < 6].iloc[:,0:15].estred13.value_counts().values.sum()))"
   ]
  },
  {
   "cell_type": "code",
   "execution_count": 119,
   "metadata": {},
   "outputs": [
    {
     "data": {
      "image/png": "[encoded data removed]",
      "text/plain": [
       "<Figure size 576x360 with 1 Axes>"
      ]
     },
     "metadata": {
      "needs_background": "light"
     },
     "output_type": "display_data"
    }
   ],
   "source": [
    "fig,ax = plt.subplots(figsize=(8,5))\n",
    "plt.bar(height = [x[1] for x in sorted(ses)], x = ['Low','Mid-low','Mid','Mid-high','High']);\n",
    "ax.set_title('SES Distribution');"
   ]
  },
  {
   "cell_type": "code",
   "execution_count": 289,
   "metadata": {},
   "outputs": [],
   "source": [
    "df_fil = df[df.estred13 < 6]"
   ]
  },
  {
   "cell_type": "code",
   "execution_count": 290,
   "metadata": {},
   "outputs": [],
   "source": [
    "y = df_fil.pop('estred13')"
   ]
  },
  {
   "cell_type": "code",
   "execution_count": 291,
   "metadata": {},
   "outputs": [],
   "source": [
    "df_fil.drop(['anio','numero','dpto','nomdpto','secc','segm','locagr','nom_locagr','ccz','barrio','nombarrio',\n",
    "             'mes','region_3','region_4','pesoano','pesotri','pesomen','c1','d21_4_1','d21_5','d21_14','d21_15',\n",
    "             'd21_15_1','d21_15_3','d21_15_5','d21_18','d21_19','d181','d231','d232','d184','d184_1','d23',\n",
    "             'd24','h155','h155_1','h156','h156_1','h252','h252_1','h158_1','h158_2','h159','h160','h160_1',\n",
    "             'h160_2','h161','h162','h163_1','h163_2','h164','h165','h227','h166','h269','h269_1','h167_1',\n",
    "             'h167_1_1','h167_1_2','h167_2','h167_2_1','h167_2_2','h167_3','h167_3_1','h167_3_2','h167_4',\n",
    "             'h167_4_1','h167_4_2','h169','h170_1','h170_2','h271','h271_1','h171','h171_1','h171_2','h172',\n",
    "             'h172_1','h173','h173_1','i228','i174','i259','i175','ht1','ht2','ht3','ht4','ht5','ht6','ht7',\n",
    "             'ht8','ht9','ht10','HT11','ht14','ht19','YHOG','lp_06','li_06','pobre06','indig06'],\n",
    "            axis=1, inplace=True)"
   ]
  },
  {
   "cell_type": "code",
   "execution_count": 292,
   "metadata": {},
   "outputs": [
    {
     "data": {
      "text/plain": [
       "(16266, 61)"
      ]
     },
     "execution_count": 292,
     "metadata": {},
     "output_type": "execute_result"
    }
   ],
   "source": [
    "df_fil.shape"
   ]
  },
  {
   "cell_type": "markdown",
   "metadata": {},
   "source": [
    "## Binarizing several features"
   ]
  },
  {
   "cell_type": "code",
   "execution_count": 233,
   "metadata": {},
   "outputs": [
    {
     "name": "stderr",
     "output_type": "stream",
     "text": [
      "/Users/gonzaloferreiro/anaconda3/lib/python3.6/site-packages/scipy/stats/stats.py:1713: FutureWarning: Using a non-tuple sequence for multidimensional indexing is deprecated; use `arr[tuple(seq)]` instead of `arr[seq]`. In the future this will be interpreted as an array index, `arr[np.array(seq)]`, which will result either in an error or a different result.\n",
      "  return np.add.reduce(sorted[indexer] * weights, axis=axis) / sumval\n"
     ]
    },
    {
     "data": {
      "image/png": "[encoded data removed]",
      "text/plain": [
       "<Figure size 1440x1440 with 16 Axes>"
      ]
     },
     "metadata": {
      "needs_background": "light"
     },
     "output_type": "display_data"
    }
   ],
   "source": [
    "cols = ['c6','d8_2','d8_3','d9','d10','d14','d21_5_1','d21_14_1','d21_15_2','d21_15_4',\n",
    "        'd21_15_6','d21_18_1','d21_19_1','d229','d230','d25']\n",
    "\n",
    "fig, ax = plt.subplots(ncols=4, nrows=4, figsize=(20,20))\n",
    "\n",
    "counter = 0\n",
    "for row in range(4):\n",
    "    for col in range(4):\n",
    "        df_col = cols[counter]\n",
    "        sns.distplot(df_fil[df_col], ax=ax[row,col])\n",
    "        counter += 1"
   ]
  },
  {
   "cell_type": "code",
   "execution_count": 228,
   "metadata": {},
   "outputs": [],
   "source": [
    "c6_clean = ['1' if x == 1 else '2' if x == 2 else '+3' for x in df_fil.c6]\n",
    "\n",
    "d8_2_clean = ['0' if x==0 else '< 15000' if x < 15000 else '< 30000' if x < 30000 else '>30000' for x in df_fil.d8_2]\n",
    "\n",
    "d8_3_clean = ['p15' if x < np.percentile(df_fil.d8_3,15) else 'p30' if x < np.percentile(df_fil.d8_3,30) else\n",
    "             'p45' if x < np.percentile(df_fil.d8_3,45) else 'p60' if x < np.percentile(df_fil.d8_3,60) else\n",
    "             'p90' if x < np.percentile(df_fil.d8_3,90) else '+p90' for x in df_fil.d8_3]"
   ]
  },
  {
   "cell_type": "code",
   "execution_count": 237,
   "metadata": {},
   "outputs": [],
   "source": [
    "d9_clean = ['+7' if x >6 else x for x in df_fil.d9]\n",
    "\n",
    "d10_clean = ['+5' if x >4 else x for x in df_fil.d10]\n",
    "\n",
    "d14_clean = ['+4' if x >3 else x for x in df_fil.d14]\n",
    "\n",
    "d21_5_1_clean = ['+5' if x>4 else x for x in df_fil.d21_5_1]\n",
    "\n",
    "d21_14_1_clean = ['+5' if x>4 else x for x in df_fil.d21_14_1]\n",
    "\n",
    "d21_15_2_clean = ['+3' if x>2 else x for x in df_fil.d21_15_2]\n",
    "\n",
    "d21_15_4_clean = ['+5' if x>4 else x for x in df_fil.d21_15_4]\n",
    "\n",
    "d21_15_6_clean = ['+3' if x>2 else x for x in df_fil.d21_15_6]\n",
    "\n",
    "d21_18_1_clean = ['+3' if x>2 else x for x in df_fil.d21_18_1]\n",
    "\n",
    "d21_19_1_clean = ['+2' if x>1 else x for x in df_fil.d21_19_1]\n",
    "\n",
    "d229_clean = ['0' if x==0 else '< 5' if x < 5 else '> 10' for x in df_fil.d229]\n",
    "\n",
    "d230_clean = ['0' if x == 0 else '< 25' if x <25 else '< 50' if x < 50 else '> 50' for x in df_fil.d230]\n",
    "\n",
    "d25_clean = ['+7' if x > 6 else x for x in df_fil.d25]"
   ]
  },
  {
   "cell_type": "code",
   "execution_count": 293,
   "metadata": {},
   "outputs": [],
   "source": [
    "df_fil['c6_clean'] = c6_clean\n",
    "df_fil['d8_2_cleann'] = d8_2_clean\n",
    "df_fil['d8_3_clean'] = d8_3_clean\n",
    "df_fil['d9_clean'] = d9_clean\n",
    "df_fil['d10_clean'] = d10_clean\n",
    "df_fil['d14_clean'] = d14_clean\n",
    "df_fil['d21_5_1_clean'] = d21_5_1_clean\n",
    "df_fil['d21_14_1_clean'] = d21_14_1_clean\n",
    "df_fil['d21_15_2_clean'] = d21_15_2_clean\n",
    "df_fil['d21_15_4_clean'] = d21_15_4_clean\n",
    "df_fil['d21_15_6_clean'] = d21_15_6_clean\n",
    "df_fil['d21_18_1_clean'] = d21_18_1_clean\n",
    "df_fil['d21_19_1_clean'] = d21_19_1_clean\n",
    "df_fil['d229_clean'] = d229_clean\n",
    "df_fil['d230_clean'] = d230_clean\n",
    "df_fil['d25_clean'] = d25_clean"
   ]
  },
  {
   "cell_type": "code",
   "execution_count": 294,
   "metadata": {},
   "outputs": [],
   "source": [
    "for col in cols:\n",
    "    df_fil.drop(col,axis=1,inplace=True)"
   ]
  },
  {
   "cell_type": "markdown",
   "metadata": {},
   "source": [
    "## Cleaning one extra feature"
   ]
  },
  {
   "cell_type": "code",
   "execution_count": 295,
   "metadata": {},
   "outputs": [],
   "source": [
    "# Keeping locative value only for property owners\n",
    "\n",
    "ht13_clean = [x if y < 5 else 0 for x,y in zip(df_fil.HT13, df_fil.d8_1)]"
   ]
  },
  {
   "cell_type": "code",
   "execution_count": 296,
   "metadata": {},
   "outputs": [],
   "source": [
    "df_fil.drop('HT13', axis=1, inplace=True)\n",
    "df_fil['ht13_clean'] = ht13_clean"
   ]
  },
  {
   "cell_type": "markdown",
   "metadata": {},
   "source": [
    "## Dummyfing everything"
   ]
  },
  {
   "cell_type": "code",
   "execution_count": 297,
   "metadata": {},
   "outputs": [],
   "source": [
    "for each in df_fil.columns:\n",
    "    if each != 'ht13_clean' and each != 'YSVL':\n",
    "        df_fil[each] = df_fil[each].astype(object)"
   ]
  },
  {
   "cell_type": "code",
   "execution_count": 300,
   "metadata": {},
   "outputs": [],
   "source": [
    "df_fil_dum = pd.get_dummies(df_fil, drop_first=True)"
   ]
  },
  {
   "cell_type": "code",
   "execution_count": 304,
   "metadata": {
    "scrolled": true
   },
   "outputs": [
    {
     "data": {
      "text/html": [
       "<div>\n",
       "<style scoped>\n",
       "    .dataframe tbody tr th:only-of-type {\n",
       "        vertical-align: middle;\n",
       "    }\n",
       "\n",
       "    .dataframe tbody tr th {\n",
       "        vertical-align: top;\n",
       "    }\n",
       "\n",
       "    .dataframe thead th {\n",
       "        text-align: right;\n",
       "    }\n",
       "</style>\n",
       "<table border=\"1\" class=\"dataframe\">\n",
       "  <thead>\n",
       "    <tr style=\"text-align: right;\">\n",
       "      <th></th>\n",
       "      <th>YSVL</th>\n",
       "      <th>ht13_clean</th>\n",
       "      <th>c2_2.0</th>\n",
       "      <th>c2_3.0</th>\n",
       "      <th>c2_4.0</th>\n",
       "      <th>c2_5.0</th>\n",
       "      <th>c2_6.0</th>\n",
       "      <th>c3_2.0</th>\n",
       "      <th>c3_3.0</th>\n",
       "      <th>c3_4.0</th>\n",
       "      <th>...</th>\n",
       "      <th>d229_clean_&gt; 10</th>\n",
       "      <th>d230_clean_&lt; 25</th>\n",
       "      <th>d230_clean_&lt; 50</th>\n",
       "      <th>d230_clean_&gt; 50</th>\n",
       "      <th>d25_clean_2.0</th>\n",
       "      <th>d25_clean_3.0</th>\n",
       "      <th>d25_clean_4.0</th>\n",
       "      <th>d25_clean_5.0</th>\n",
       "      <th>d25_clean_6.0</th>\n",
       "      <th>d25_clean_+7</th>\n",
       "    </tr>\n",
       "  </thead>\n",
       "  <tbody>\n",
       "    <tr>\n",
       "      <th>0</th>\n",
       "      <td>36254.92</td>\n",
       "      <td>0.0</td>\n",
       "      <td>1</td>\n",
       "      <td>0</td>\n",
       "      <td>0</td>\n",
       "      <td>0</td>\n",
       "      <td>0</td>\n",
       "      <td>0</td>\n",
       "      <td>1</td>\n",
       "      <td>0</td>\n",
       "      <td>...</td>\n",
       "      <td>0</td>\n",
       "      <td>0</td>\n",
       "      <td>0</td>\n",
       "      <td>0</td>\n",
       "      <td>0</td>\n",
       "      <td>0</td>\n",
       "      <td>0</td>\n",
       "      <td>0</td>\n",
       "      <td>1</td>\n",
       "      <td>0</td>\n",
       "    </tr>\n",
       "    <tr>\n",
       "      <th>4</th>\n",
       "      <td>13644.27</td>\n",
       "      <td>12000.0</td>\n",
       "      <td>0</td>\n",
       "      <td>0</td>\n",
       "      <td>0</td>\n",
       "      <td>0</td>\n",
       "      <td>0</td>\n",
       "      <td>0</td>\n",
       "      <td>0</td>\n",
       "      <td>0</td>\n",
       "      <td>...</td>\n",
       "      <td>0</td>\n",
       "      <td>0</td>\n",
       "      <td>0</td>\n",
       "      <td>0</td>\n",
       "      <td>1</td>\n",
       "      <td>0</td>\n",
       "      <td>0</td>\n",
       "      <td>0</td>\n",
       "      <td>0</td>\n",
       "      <td>0</td>\n",
       "    </tr>\n",
       "    <tr>\n",
       "      <th>12</th>\n",
       "      <td>50286.50</td>\n",
       "      <td>0.0</td>\n",
       "      <td>1</td>\n",
       "      <td>0</td>\n",
       "      <td>0</td>\n",
       "      <td>0</td>\n",
       "      <td>0</td>\n",
       "      <td>1</td>\n",
       "      <td>0</td>\n",
       "      <td>0</td>\n",
       "      <td>...</td>\n",
       "      <td>0</td>\n",
       "      <td>0</td>\n",
       "      <td>0</td>\n",
       "      <td>0</td>\n",
       "      <td>0</td>\n",
       "      <td>0</td>\n",
       "      <td>0</td>\n",
       "      <td>0</td>\n",
       "      <td>1</td>\n",
       "      <td>0</td>\n",
       "    </tr>\n",
       "    <tr>\n",
       "      <th>13</th>\n",
       "      <td>61442.00</td>\n",
       "      <td>9000.0</td>\n",
       "      <td>0</td>\n",
       "      <td>0</td>\n",
       "      <td>0</td>\n",
       "      <td>0</td>\n",
       "      <td>0</td>\n",
       "      <td>0</td>\n",
       "      <td>0</td>\n",
       "      <td>0</td>\n",
       "      <td>...</td>\n",
       "      <td>0</td>\n",
       "      <td>0</td>\n",
       "      <td>0</td>\n",
       "      <td>0</td>\n",
       "      <td>0</td>\n",
       "      <td>0</td>\n",
       "      <td>1</td>\n",
       "      <td>0</td>\n",
       "      <td>0</td>\n",
       "      <td>0</td>\n",
       "    </tr>\n",
       "    <tr>\n",
       "      <th>24</th>\n",
       "      <td>24071.00</td>\n",
       "      <td>0.0</td>\n",
       "      <td>0</td>\n",
       "      <td>0</td>\n",
       "      <td>0</td>\n",
       "      <td>0</td>\n",
       "      <td>0</td>\n",
       "      <td>0</td>\n",
       "      <td>0</td>\n",
       "      <td>0</td>\n",
       "      <td>...</td>\n",
       "      <td>0</td>\n",
       "      <td>0</td>\n",
       "      <td>0</td>\n",
       "      <td>0</td>\n",
       "      <td>0</td>\n",
       "      <td>0</td>\n",
       "      <td>0</td>\n",
       "      <td>0</td>\n",
       "      <td>0</td>\n",
       "      <td>0</td>\n",
       "    </tr>\n",
       "  </tbody>\n",
       "</table>\n",
       "<p>5 rows × 147 columns</p>\n",
       "</div>"
      ],
      "text/plain": [
       "        YSVL  ht13_clean  c2_2.0  c2_3.0  c2_4.0  c2_5.0  c2_6.0  c3_2.0  \\\n",
       "0   36254.92         0.0       1       0       0       0       0       0   \n",
       "4   13644.27     12000.0       0       0       0       0       0       0   \n",
       "12  50286.50         0.0       1       0       0       0       0       1   \n",
       "13  61442.00      9000.0       0       0       0       0       0       0   \n",
       "24  24071.00         0.0       0       0       0       0       0       0   \n",
       "\n",
       "    c3_3.0  c3_4.0      ...       d229_clean_> 10  d230_clean_< 25  \\\n",
       "0        1       0      ...                     0                0   \n",
       "4        0       0      ...                     0                0   \n",
       "12       0       0      ...                     0                0   \n",
       "13       0       0      ...                     0                0   \n",
       "24       0       0      ...                     0                0   \n",
       "\n",
       "    d230_clean_< 50  d230_clean_> 50  d25_clean_2.0  d25_clean_3.0  \\\n",
       "0                 0                0              0              0   \n",
       "4                 0                0              1              0   \n",
       "12                0                0              0              0   \n",
       "13                0                0              0              0   \n",
       "24                0                0              0              0   \n",
       "\n",
       "    d25_clean_4.0  d25_clean_5.0  d25_clean_6.0  d25_clean_+7  \n",
       "0               0              0              1             0  \n",
       "4               0              0              0             0  \n",
       "12              0              0              1             0  \n",
       "13              1              0              0             0  \n",
       "24              0              0              0             0  \n",
       "\n",
       "[5 rows x 147 columns]"
      ]
     },
     "execution_count": 304,
     "metadata": {},
     "output_type": "execute_result"
    }
   ],
   "source": [
    "df_fil_dum.head()"
   ]
  },
  {
   "cell_type": "markdown",
   "metadata": {},
   "source": [
    "## Basic pre modelling"
   ]
  },
  {
   "cell_type": "code",
   "execution_count": 325,
   "metadata": {},
   "outputs": [],
   "source": [
    "from sklearn.metrics import classification_report, confusion_matrix, accuracy_score\n",
    "from sklearn.model_selection import train_test_split, GridSearchCV, cross_val_score\n",
    "from sklearn.linear_model import LogisticRegressionCV, LogisticRegression\n",
    "from sklearn.preprocessing import StandardScaler\n",
    "scaler = StandardScaler()\n",
    "from sklearn.metrics import accuracy_score\n",
    "from sklearn.neighbors import KNeighborsClassifier\n",
    "from sklearn.ensemble import BaggingClassifier\n",
    "from sklearn.ensemble import AdaBoostClassifier, GradientBoostingClassifier\n",
    "from sklearn.tree import DecisionTreeClassifier\n",
    "from sklearn import metrics\n",
    "import scikitplot as skplt"
   ]
  },
  {
   "cell_type": "code",
   "execution_count": 362,
   "metadata": {},
   "outputs": [
    {
     "data": {
      "image/png": "[encoded data removed]",
      "text/plain": [
       "<Figure size 432x288 with 1 Axes>"
      ]
     },
     "metadata": {
      "needs_background": "light"
     },
     "output_type": "display_data"
    }
   ],
   "source": [
    "sns.distplot(y);"
   ]
  },
  {
   "cell_type": "code",
   "execution_count": 306,
   "metadata": {},
   "outputs": [],
   "source": [
    "X_train, X_test, y_train, y_test = train_test_split(\n",
    "df_fil_dum, y, test_size=0.2, stratify=y, random_state=123, shuffle=True)"
   ]
  },
  {
   "cell_type": "code",
   "execution_count": 307,
   "metadata": {},
   "outputs": [
    {
     "name": "stderr",
     "output_type": "stream",
     "text": [
      "/Users/gonzaloferreiro/anaconda3/lib/python3.6/site-packages/sklearn/preprocessing/data.py:625: DataConversionWarning: Data with input dtype uint8, float64 were all converted to float64 by StandardScaler.\n",
      "  return self.partial_fit(X, y)\n",
      "/Users/gonzaloferreiro/anaconda3/lib/python3.6/site-packages/ipykernel_launcher.py:2: DataConversionWarning: Data with input dtype uint8, float64 were all converted to float64 by StandardScaler.\n",
      "  \n",
      "/Users/gonzaloferreiro/anaconda3/lib/python3.6/site-packages/ipykernel_launcher.py:3: DataConversionWarning: Data with input dtype uint8, float64 were all converted to float64 by StandardScaler.\n",
      "  This is separate from the ipykernel package so we can avoid doing imports until\n"
     ]
    }
   ],
   "source": [
    "scaler.fit(X_train)\n",
    "X_train = scaler.transform(X_train)\n",
    "X_test = scaler.transform(X_test)"
   ]
  },
  {
   "cell_type": "code",
   "execution_count": 460,
   "metadata": {},
   "outputs": [],
   "source": [
    "logistic_regression = LogisticRegression(max_iter = 500)"
   ]
  },
  {
   "cell_type": "code",
   "execution_count": 461,
   "metadata": {},
   "outputs": [],
   "source": [
    "params = {'penalty': ['l2'],\n",
    "         'solver': ['lbfgs'],\n",
    "         'C': [75,100,125,150],\n",
    "         'multi_class': ['multinomial']}"
   ]
  },
  {
   "cell_type": "code",
   "execution_count": 462,
   "metadata": {},
   "outputs": [],
   "source": [
    "logistic_grid = GridSearchCV(logistic_regression, params, cv=5, n_jobs=3)"
   ]
  },
  {
   "cell_type": "code",
   "execution_count": 463,
   "metadata": {},
   "outputs": [
    {
     "name": "stderr",
     "output_type": "stream",
     "text": [
      "/Users/gonzaloferreiro/anaconda3/lib/python3.6/site-packages/sklearn/linear_model/logistic.py:758: ConvergenceWarning: lbfgs failed to converge. Increase the number of iterations.\n",
      "  \"of iterations.\", ConvergenceWarning)\n"
     ]
    },
    {
     "data": {
      "text/plain": [
       "GridSearchCV(cv=5, error_score='raise-deprecating',\n",
       "       estimator=LogisticRegression(C=1.0, class_weight=None, dual=False, fit_intercept=True,\n",
       "          intercept_scaling=1, max_iter=500, multi_class='warn',\n",
       "          n_jobs=None, penalty='l2', random_state=None, solver='warn',\n",
       "          tol=0.0001, verbose=0, warm_start=False),\n",
       "       fit_params=None, iid='warn', n_jobs=3,\n",
       "       param_grid={'penalty': ['l2'], 'solver': ['lbfgs'], 'C': [75, 100, 125, 150], 'multi_class': ['multinomial']},\n",
       "       pre_dispatch='2*n_jobs', refit=True, return_train_score='warn',\n",
       "       scoring=None, verbose=0)"
      ]
     },
     "execution_count": 463,
     "metadata": {},
     "output_type": "execute_result"
    }
   ],
   "source": [
    "logistic_grid.fit(X_train, y_train)"
   ]
  },
  {
   "cell_type": "code",
   "execution_count": 464,
   "metadata": {},
   "outputs": [
    {
     "data": {
      "text/plain": [
       "{'C': 100, 'multi_class': 'multinomial', 'penalty': 'l2', 'solver': 'lbfgs'}"
      ]
     },
     "execution_count": 464,
     "metadata": {},
     "output_type": "execute_result"
    }
   ],
   "source": [
    "logistic_grid.best_params_"
   ]
  },
  {
   "cell_type": "code",
   "execution_count": 465,
   "metadata": {},
   "outputs": [],
   "source": [
    "log_test_pred = logistic_grid.predict(X_test)"
   ]
  },
  {
   "cell_type": "code",
   "execution_count": 466,
   "metadata": {},
   "outputs": [
    {
     "name": "stdout",
     "output_type": "stream",
     "text": [
      "              precision    recall  f1-score   support\n",
      "\n",
      "         1.0       0.65      0.50      0.57       469\n",
      "         2.0       0.41      0.39      0.40       643\n",
      "         3.0       0.43      0.48      0.45       834\n",
      "         4.0       0.49      0.56      0.52       820\n",
      "         5.0       0.67      0.54      0.60       488\n",
      "\n",
      "   micro avg       0.50      0.50      0.50      3254\n",
      "   macro avg       0.53      0.50      0.51      3254\n",
      "weighted avg       0.51      0.50      0.50      3254\n",
      "\n"
     ]
    }
   ],
   "source": [
    "print(metrics.classification_report(y_test,log_test_pred))"
   ]
  },
  {
   "cell_type": "code",
   "execution_count": 467,
   "metadata": {},
   "outputs": [
    {
     "data": {
      "image/png": "[encoded data removed]",
      "text/plain": [
       "<Figure size 432x288 with 2 Axes>"
      ]
     },
     "metadata": {
      "needs_background": "light"
     },
     "output_type": "display_data"
    }
   ],
   "source": [
    "skplt.metrics.plot_confusion_matrix(y_test, log_test_pred)\n",
    "plt.show()"
   ]
  },
  {
   "cell_type": "code",
   "execution_count": 468,
   "metadata": {},
   "outputs": [],
   "source": [
    "log_train_pred = logistic_grid.predict(X_train)"
   ]
  },
  {
   "cell_type": "code",
   "execution_count": 469,
   "metadata": {},
   "outputs": [
    {
     "name": "stdout",
     "output_type": "stream",
     "text": [
      "              precision    recall  f1-score   support\n",
      "\n",
      "         1.0       0.67      0.51      0.58      1876\n",
      "         2.0       0.46      0.42      0.44      2572\n",
      "         3.0       0.44      0.50      0.47      3332\n",
      "         4.0       0.52      0.60      0.55      3281\n",
      "         5.0       0.70      0.59      0.64      1951\n",
      "\n",
      "   micro avg       0.52      0.52      0.52     13012\n",
      "   macro avg       0.56      0.52      0.54     13012\n",
      "weighted avg       0.54      0.52      0.53     13012\n",
      "\n"
     ]
    }
   ],
   "source": [
    "print(metrics.classification_report(y_train,log_train_pred))"
   ]
  },
  {
   "cell_type": "code",
   "execution_count": 470,
   "metadata": {},
   "outputs": [
    {
     "data": {
      "image/png": "[encoded data removed]",
      "text/plain": [
       "<Figure size 432x288 with 2 Axes>"
      ]
     },
     "metadata": {
      "needs_background": "light"
     },
     "output_type": "display_data"
    }
   ],
   "source": [
    "skplt.metrics.plot_confusion_matrix(y_train, log_train_pred)\n",
    "plt.show()"
   ]
  },
  {
   "cell_type": "code",
   "execution_count": 734,
   "metadata": {},
   "outputs": [],
   "source": [
    "coefs = pd.DataFrame(np.abs(logistic_grid.best_estimator_.coef_[0]),\n",
    "                       columns=['Coef'], index=df_fil_dum.columns)"
   ]
  },
  {
   "cell_type": "code",
   "execution_count": 735,
   "metadata": {},
   "outputs": [
    {
     "data": {
      "text/html": [
       "<div>\n",
       "<style scoped>\n",
       "    .dataframe tbody tr th:only-of-type {\n",
       "        vertical-align: middle;\n",
       "    }\n",
       "\n",
       "    .dataframe tbody tr th {\n",
       "        vertical-align: top;\n",
       "    }\n",
       "\n",
       "    .dataframe thead th {\n",
       "        text-align: right;\n",
       "    }\n",
       "</style>\n",
       "<table border=\"1\" class=\"dataframe\">\n",
       "  <thead>\n",
       "    <tr style=\"text-align: right;\">\n",
       "      <th></th>\n",
       "      <th>Coef</th>\n",
       "    </tr>\n",
       "  </thead>\n",
       "  <tbody>\n",
       "    <tr>\n",
       "      <th>d20_2.0</th>\n",
       "      <td>1.397391</td>\n",
       "    </tr>\n",
       "    <tr>\n",
       "      <th>d8_3_clean_p30</th>\n",
       "      <td>1.163429</td>\n",
       "    </tr>\n",
       "    <tr>\n",
       "      <th>d21_16_1_1.0</th>\n",
       "      <td>1.160200</td>\n",
       "    </tr>\n",
       "    <tr>\n",
       "      <th>d8_3_clean_p15</th>\n",
       "      <td>1.092258</td>\n",
       "    </tr>\n",
       "    <tr>\n",
       "      <th>d21_16_2_2.0</th>\n",
       "      <td>0.956152</td>\n",
       "    </tr>\n",
       "    <tr>\n",
       "      <th>d8_3_clean_p45</th>\n",
       "      <td>0.877890</td>\n",
       "    </tr>\n",
       "    <tr>\n",
       "      <th>d260_2.0</th>\n",
       "      <td>0.738724</td>\n",
       "    </tr>\n",
       "    <tr>\n",
       "      <th>d8_3_clean_p60</th>\n",
       "      <td>0.692834</td>\n",
       "    </tr>\n",
       "    <tr>\n",
       "      <th>c6_clean_1</th>\n",
       "      <td>0.617183</td>\n",
       "    </tr>\n",
       "    <tr>\n",
       "      <th>d21_16_2_1.0</th>\n",
       "      <td>0.554664</td>\n",
       "    </tr>\n",
       "  </tbody>\n",
       "</table>\n",
       "</div>"
      ],
      "text/plain": [
       "                    Coef\n",
       "d20_2.0         1.397391\n",
       "d8_3_clean_p30  1.163429\n",
       "d21_16_1_1.0    1.160200\n",
       "d8_3_clean_p15  1.092258\n",
       "d21_16_2_2.0    0.956152\n",
       "d8_3_clean_p45  0.877890\n",
       "d260_2.0        0.738724\n",
       "d8_3_clean_p60  0.692834\n",
       "c6_clean_1      0.617183\n",
       "d21_16_2_1.0    0.554664"
      ]
     },
     "execution_count": 735,
     "metadata": {},
     "output_type": "execute_result"
    }
   ],
   "source": [
    "coefs.sort_values(by='Coef',ascending=False).head(10)"
   ]
  },
  {
   "cell_type": "markdown",
   "metadata": {},
   "source": [
    "## Trying only with more correlated features"
   ]
  },
  {
   "cell_type": "code",
   "execution_count": 363,
   "metadata": {
    "scrolled": true
   },
   "outputs": [
    {
     "name": "stderr",
     "output_type": "stream",
     "text": [
      "/Users/gonzaloferreiro/anaconda3/lib/python3.6/site-packages/sklearn/preprocessing/data.py:625: DataConversionWarning: Data with input dtype uint8, float64 were all converted to float64 by StandardScaler.\n",
      "  return self.partial_fit(X, y)\n",
      "/Users/gonzaloferreiro/anaconda3/lib/python3.6/site-packages/ipykernel_launcher.py:2: DataConversionWarning: Data with input dtype uint8, float64 were all converted to float64 by StandardScaler.\n",
      "  \n"
     ]
    }
   ],
   "source": [
    "scaler.fit(df_fil_dum)\n",
    "df_scal = scaler.transform(df_fil_dum)"
   ]
  },
  {
   "cell_type": "code",
   "execution_count": 534,
   "metadata": {},
   "outputs": [],
   "source": [
    "def selecting_correlated(df, y, threshold):\n",
    "    selected = []\n",
    "    for each in df.columns:\n",
    "        cor = np.corrcoef(x=df[each], y=y)\n",
    "        if cor[0][1] > threshold:\n",
    "            selected.append(each)\n",
    "    if len(selected) == 0:\n",
    "        print('No featured found')\n",
    "    else:\n",
    "        returned = df[selected]\n",
    "        return returned\n",
    "        #return selected"
   ]
  },
  {
   "cell_type": "code",
   "execution_count": 535,
   "metadata": {},
   "outputs": [],
   "source": [
    "true_df_scal = pd.DataFrame(df_scal, columns=df_fil_dum.columns)"
   ]
  },
  {
   "cell_type": "code",
   "execution_count": 567,
   "metadata": {},
   "outputs": [],
   "source": [
    "df_cor = selecting_correlated(true_df_scal, y, 0.15)"
   ]
  },
  {
   "cell_type": "code",
   "execution_count": 568,
   "metadata": {},
   "outputs": [],
   "source": [
    "X_train_cor, X_test_cor, y_train_cor, y_test_cor = train_test_split(\n",
    "df_cor, y, test_size=0.2, stratify=y, random_state=123, shuffle=True)"
   ]
  },
  {
   "cell_type": "code",
   "execution_count": 569,
   "metadata": {},
   "outputs": [],
   "source": [
    "cor_logistic_regression = LogisticRegression(max_iter = 500)"
   ]
  },
  {
   "cell_type": "code",
   "execution_count": 570,
   "metadata": {},
   "outputs": [],
   "source": [
    "cor_params = {'penalty': ['l2'],\n",
    "         'solver': ['lbfgs'],\n",
    "         'C': [130,150,170],\n",
    "         'multi_class': ['multinomial']}"
   ]
  },
  {
   "cell_type": "code",
   "execution_count": 571,
   "metadata": {},
   "outputs": [],
   "source": [
    "cor_logistic_grid = GridSearchCV(cor_logistic_regression, \n",
    "                                 cor_params, cv=5, n_jobs=3)"
   ]
  },
  {
   "cell_type": "code",
   "execution_count": 572,
   "metadata": {},
   "outputs": [
    {
     "data": {
      "text/plain": [
       "GridSearchCV(cv=5, error_score='raise-deprecating',\n",
       "       estimator=LogisticRegression(C=1.0, class_weight=None, dual=False, fit_intercept=True,\n",
       "          intercept_scaling=1, max_iter=500, multi_class='warn',\n",
       "          n_jobs=None, penalty='l2', random_state=None, solver='warn',\n",
       "          tol=0.0001, verbose=0, warm_start=False),\n",
       "       fit_params=None, iid='warn', n_jobs=3,\n",
       "       param_grid={'penalty': ['l2'], 'solver': ['lbfgs'], 'C': [130, 150, 170], 'multi_class': ['multinomial']},\n",
       "       pre_dispatch='2*n_jobs', refit=True, return_train_score='warn',\n",
       "       scoring=None, verbose=0)"
      ]
     },
     "execution_count": 572,
     "metadata": {},
     "output_type": "execute_result"
    }
   ],
   "source": [
    "cor_logistic_grid.fit(X_train_cor, y_train_cor)"
   ]
  },
  {
   "cell_type": "code",
   "execution_count": 573,
   "metadata": {},
   "outputs": [
    {
     "data": {
      "text/plain": [
       "{'C': 130, 'multi_class': 'multinomial', 'penalty': 'l2', 'solver': 'lbfgs'}"
      ]
     },
     "execution_count": 573,
     "metadata": {},
     "output_type": "execute_result"
    }
   ],
   "source": [
    "cor_logistic_grid.best_params_"
   ]
  },
  {
   "cell_type": "code",
   "execution_count": 574,
   "metadata": {},
   "outputs": [],
   "source": [
    "cor_test_pred = cor_logistic_grid.predict(X_test_cor)"
   ]
  },
  {
   "cell_type": "code",
   "execution_count": 575,
   "metadata": {},
   "outputs": [
    {
     "name": "stdout",
     "output_type": "stream",
     "text": [
      "              precision    recall  f1-score   support\n",
      "\n",
      "         1.0       0.72      0.43      0.54       469\n",
      "         2.0       0.39      0.33      0.36       643\n",
      "         3.0       0.38      0.53      0.44       834\n",
      "         4.0       0.45      0.49      0.47       820\n",
      "         5.0       0.62      0.46      0.53       488\n",
      "\n",
      "   micro avg       0.46      0.46      0.46      3254\n",
      "   macro avg       0.51      0.45      0.47      3254\n",
      "weighted avg       0.48      0.46      0.46      3254\n",
      "\n"
     ]
    }
   ],
   "source": [
    "print(metrics.classification_report(y_test_cor, cor_test_pred))"
   ]
  },
  {
   "cell_type": "code",
   "execution_count": 576,
   "metadata": {},
   "outputs": [
    {
     "data": {
      "image/png": "[encoded data removed]",
      "text/plain": [
       "<Figure size 432x288 with 2 Axes>"
      ]
     },
     "metadata": {
      "needs_background": "light"
     },
     "output_type": "display_data"
    }
   ],
   "source": [
    "skplt.metrics.plot_confusion_matrix(y_test_cor, cor_test_pred)\n",
    "plt.show()"
   ]
  },
  {
   "cell_type": "markdown",
   "metadata": {},
   "source": [
    "## Trying PCA"
   ]
  },
  {
   "cell_type": "code",
   "execution_count": 413,
   "metadata": {},
   "outputs": [
    {
     "name": "stdout",
     "output_type": "stream",
     "text": [
      "Current number of columns:\n",
      "147\n"
     ]
    }
   ],
   "source": [
    "print('Current number of columns:')\n",
    "print(df_scal.shape[1])"
   ]
  },
  {
   "cell_type": "code",
   "execution_count": 366,
   "metadata": {},
   "outputs": [],
   "source": [
    "from sklearn.decomposition import PCA"
   ]
  },
  {
   "cell_type": "code",
   "execution_count": 382,
   "metadata": {},
   "outputs": [],
   "source": [
    "pca = PCA(n_components=100)\n",
    "df_pc = pca.fit_transform(df_scal)"
   ]
  },
  {
   "cell_type": "code",
   "execution_count": 411,
   "metadata": {},
   "outputs": [
    {
     "data": {
      "text/plain": [
       "<matplotlib.axes._subplots.AxesSubplot at 0xa88335ba8>"
      ]
     },
     "execution_count": 411,
     "metadata": {},
     "output_type": "execute_result"
    },
    {
     "data": {
      "image/png": "[encoded data removed]",
      "text/plain": [
       "<Figure size 432x288 with 1 Axes>"
      ]
     },
     "metadata": {
      "needs_background": "light"
     },
     "output_type": "display_data"
    }
   ],
   "source": [
    "sns.lineplot(y=np.round(np.cumsum(pca.explained_variance_ratio_),3),\n",
    "             x=range(len(pca.explained_variance_ratio_)))"
   ]
  },
  {
   "cell_type": "code",
   "execution_count": 407,
   "metadata": {},
   "outputs": [],
   "source": [
    "inc_var = [pca.explained_variance_ratio_[x] - \n",
    "           pca.explained_variance_ratio_[x-1] \n",
    "           for x in range(1,len(pca.explained_variance_ratio_))]"
   ]
  },
  {
   "cell_type": "code",
   "execution_count": 410,
   "metadata": {},
   "outputs": [
    {
     "data": {
      "text/plain": [
       "<matplotlib.axes._subplots.AxesSubplot at 0xa7f3cd400>"
      ]
     },
     "execution_count": 410,
     "metadata": {},
     "output_type": "execute_result"
    },
    {
     "data": {
      "image/png": "[encoded data removed]",
      "text/plain": [
       "<Figure size 432x288 with 1 Axes>"
      ]
     },
     "metadata": {
      "needs_background": "light"
     },
     "output_type": "display_data"
    }
   ],
   "source": [
    "sns.lineplot(y=inc_var, x=range(len(inc_var)))"
   ]
  },
  {
   "cell_type": "code",
   "execution_count": 417,
   "metadata": {},
   "outputs": [
    {
     "name": "stdout",
     "output_type": "stream",
     "text": [
      "Explained variance at 20 features:\n",
      "0.36333284085703205\n",
      "Explained variance at 30 features:\n",
      "0.4509452890319495\n",
      "Explained variance at 40 features:\n",
      "0.5299185029239181\n"
     ]
    }
   ],
   "source": [
    "print('Explained variance at 20 features:')\n",
    "print(np.cumsum(pca.explained_variance_ratio_)[20])\n",
    "\n",
    "print('Explained variance at 30 features:')\n",
    "print(np.cumsum(pca.explained_variance_ratio_)[30])\n",
    "\n",
    "print('Explained variance at 40 features:')\n",
    "print(np.cumsum(pca.explained_variance_ratio_)[40])"
   ]
  },
  {
   "cell_type": "code",
   "execution_count": 479,
   "metadata": {},
   "outputs": [],
   "source": [
    "pca_40 = PCA(n_components=40)\n",
    "df_pc_40 = pca_40.fit_transform(df_scal)"
   ]
  },
  {
   "cell_type": "code",
   "execution_count": 480,
   "metadata": {},
   "outputs": [],
   "source": [
    "X_train_pca, X_test_pca, y_train_pca, y_test_pca = train_test_split(\n",
    "df_pc_40, y, test_size=0.2, stratify=y, random_state=123, shuffle=True)"
   ]
  },
  {
   "cell_type": "code",
   "execution_count": 481,
   "metadata": {},
   "outputs": [],
   "source": [
    "pca_logistic_regression = LogisticRegression(max_iter = 500)"
   ]
  },
  {
   "cell_type": "code",
   "execution_count": 482,
   "metadata": {},
   "outputs": [],
   "source": [
    "pca_params = {'penalty': ['l2'],\n",
    "         'solver': ['lbfgs','newton-cg'],\n",
    "         'C': [10,50,75,100],\n",
    "         'multi_class': ['multinomial']}"
   ]
  },
  {
   "cell_type": "code",
   "execution_count": 483,
   "metadata": {},
   "outputs": [],
   "source": [
    "pca_logistic_grid = GridSearchCV(pca_logistic_regression, \n",
    "                             pca_params, cv=5, n_jobs=3)"
   ]
  },
  {
   "cell_type": "code",
   "execution_count": 484,
   "metadata": {},
   "outputs": [
    {
     "data": {
      "text/plain": [
       "GridSearchCV(cv=5, error_score='raise-deprecating',\n",
       "       estimator=LogisticRegression(C=1.0, class_weight=None, dual=False, fit_intercept=True,\n",
       "          intercept_scaling=1, max_iter=500, multi_class='warn',\n",
       "          n_jobs=None, penalty='l2', random_state=None, solver='warn',\n",
       "          tol=0.0001, verbose=0, warm_start=False),\n",
       "       fit_params=None, iid='warn', n_jobs=3,\n",
       "       param_grid={'penalty': ['l2'], 'solver': ['lbfgs', 'newton-cg'], 'C': [10, 50, 75, 100], 'multi_class': ['multinomial']},\n",
       "       pre_dispatch='2*n_jobs', refit=True, return_train_score='warn',\n",
       "       scoring=None, verbose=0)"
      ]
     },
     "execution_count": 484,
     "metadata": {},
     "output_type": "execute_result"
    }
   ],
   "source": [
    "pca_logistic_grid.fit(X_train_pca, y_train_pca)"
   ]
  },
  {
   "cell_type": "code",
   "execution_count": 485,
   "metadata": {},
   "outputs": [
    {
     "data": {
      "text/plain": [
       "{'C': 10, 'multi_class': 'multinomial', 'penalty': 'l2', 'solver': 'lbfgs'}"
      ]
     },
     "execution_count": 485,
     "metadata": {},
     "output_type": "execute_result"
    }
   ],
   "source": [
    "pca_logistic_grid.best_params_"
   ]
  },
  {
   "cell_type": "code",
   "execution_count": 486,
   "metadata": {},
   "outputs": [],
   "source": [
    "pca_log_pred = pca_logistic_grid.predict(X_test_pca)"
   ]
  },
  {
   "cell_type": "code",
   "execution_count": 487,
   "metadata": {},
   "outputs": [
    {
     "name": "stdout",
     "output_type": "stream",
     "text": [
      "              precision    recall  f1-score   support\n",
      "\n",
      "         1.0       0.69      0.46      0.56       469\n",
      "         2.0       0.40      0.37      0.38       643\n",
      "         3.0       0.41      0.49      0.45       834\n",
      "         4.0       0.48      0.56      0.51       820\n",
      "         5.0       0.65      0.49      0.56       488\n",
      "\n",
      "   micro avg       0.48      0.48      0.48      3254\n",
      "   macro avg       0.52      0.48      0.49      3254\n",
      "weighted avg       0.50      0.48      0.48      3254\n",
      "\n"
     ]
    }
   ],
   "source": [
    "print(metrics.classification_report(y_test_pca,pca_log_pred))"
   ]
  },
  {
   "cell_type": "code",
   "execution_count": 489,
   "metadata": {},
   "outputs": [
    {
     "data": {
      "image/png": "[encoded data removed]",
      "text/plain": [
       "<Figure size 432x288 with 2 Axes>"
      ]
     },
     "metadata": {
      "needs_background": "light"
     },
     "output_type": "display_data"
    }
   ],
   "source": [
    "skplt.metrics.plot_confusion_matrix(y_test_pca, pca_log_pred)\n",
    "plt.show()"
   ]
  },
  {
   "cell_type": "markdown",
   "metadata": {},
   "source": [
    "## Analyzing and modeling according to income"
   ]
  },
  {
   "cell_type": "code",
   "execution_count": 581,
   "metadata": {},
   "outputs": [
    {
     "name": "stderr",
     "output_type": "stream",
     "text": [
      "/Users/gonzaloferreiro/anaconda3/lib/python3.6/site-packages/scipy/stats/stats.py:1713: FutureWarning: Using a non-tuple sequence for multidimensional indexing is deprecated; use `arr[tuple(seq)]` instead of `arr[seq]`. In the future this will be interpreted as an array index, `arr[np.array(seq)]`, which will result either in an error or a different result.\n",
      "  return np.add.reduce(sorted[indexer] * weights, axis=axis) / sumval\n"
     ]
    },
    {
     "data": {
      "text/plain": [
       "<matplotlib.axes._subplots.AxesSubplot at 0xa6a784ba8>"
      ]
     },
     "execution_count": 581,
     "metadata": {},
     "output_type": "execute_result"
    },
    {
     "data": {
      "image/png": "[encoded data removed]",
      "text/plain": [
       "<Figure size 432x288 with 1 Axes>"
      ]
     },
     "metadata": {
      "needs_background": "light"
     },
     "output_type": "display_data"
    }
   ],
   "source": [
    "sns.distplot(df_fil_dum.YSVL)"
   ]
  },
  {
   "cell_type": "code",
   "execution_count": 586,
   "metadata": {},
   "outputs": [],
   "source": [
    "income = pd.concat(objs=[df_fil_dum.YSVL,y], axis=1)"
   ]
  },
  {
   "cell_type": "code",
   "execution_count": 590,
   "metadata": {
    "scrolled": true
   },
   "outputs": [
    {
     "data": {
      "text/plain": [
       "estred13\n",
       "1.0     44169.778756\n",
       "2.0     52161.430676\n",
       "3.0     64112.850788\n",
       "4.0     86483.955844\n",
       "5.0    133429.595838\n",
       "Name: YSVL, dtype: float64"
      ]
     },
     "execution_count": 590,
     "metadata": {},
     "output_type": "execute_result"
    }
   ],
   "source": [
    "income.groupby('estred13').mean().YSVL"
   ]
  },
  {
   "cell_type": "code",
   "execution_count": 592,
   "metadata": {},
   "outputs": [
    {
     "data": {
      "image/png": "[encoded data removed]",
      "text/plain": [
       "<Figure size 432x288 with 1 Axes>"
      ]
     },
     "metadata": {
      "needs_background": "light"
     },
     "output_type": "display_data"
    }
   ],
   "source": [
    "sns.barplot(x=income.groupby('estred13').mean().index,\n",
    "           y=income.groupby('estred13').mean().YSVL);"
   ]
  },
  {
   "cell_type": "code",
   "execution_count": 597,
   "metadata": {},
   "outputs": [
    {
     "data": {
      "text/plain": [
       "143103.5"
      ]
     },
     "execution_count": 597,
     "metadata": {},
     "output_type": "execute_result"
    }
   ],
   "source": [
    "np.percentile(df_fil_dum.YSVL,90)"
   ]
  },
  {
   "cell_type": "code",
   "execution_count": 651,
   "metadata": {},
   "outputs": [],
   "source": [
    "def setup_clusters(inlist, percentiles):\n",
    "    returner = []\n",
    "    for each in inlist:\n",
    "        append = False\n",
    "        \n",
    "        if each > np.percentile(inlist,percentiles[-1]):\n",
    "            returner.append(len(percentiles))\n",
    "        \n",
    "        else:\n",
    "            for per in range(len(percentiles)):\n",
    "                if each <= np.percentile(inlist,percentiles[per]) and append == False:\n",
    "                    returner.append(per)\n",
    "                    append = True\n",
    "    \n",
    "    return returner"
   ]
  },
  {
   "cell_type": "code",
   "execution_count": 743,
   "metadata": {},
   "outputs": [],
   "source": [
    "new_target = setup_clusters(df_fil_dum.YSVL, [20,40,60,80])"
   ]
  },
  {
   "cell_type": "code",
   "execution_count": 744,
   "metadata": {},
   "outputs": [],
   "source": [
    "test = df_fil_dum[['YSVL']].copy()\n",
    "test.reset_index(level=0,inplace=True,drop=True)\n",
    "test['new_target'] = new_target"
   ]
  },
  {
   "cell_type": "code",
   "execution_count": 745,
   "metadata": {},
   "outputs": [
    {
     "data": {
      "image/png": "[encoded data removed]",
      "text/plain": [
       "<Figure size 432x288 with 1 Axes>"
      ]
     },
     "metadata": {
      "needs_background": "light"
     },
     "output_type": "display_data"
    }
   ],
   "source": [
    "sns.barplot(x=test.groupby('new_target').mean().index,\n",
    "           y=test.groupby('new_target').mean().YSVL);"
   ]
  },
  {
   "cell_type": "code",
   "execution_count": 746,
   "metadata": {},
   "outputs": [],
   "source": [
    "X_train_nt, X_test_nt, y_train_nt, y_test_nt = train_test_split(\n",
    "df_fil_dum, new_target, test_size=0.2, stratify=new_target, random_state=123, shuffle=True)"
   ]
  },
  {
   "cell_type": "code",
   "execution_count": 747,
   "metadata": {},
   "outputs": [],
   "source": [
    "X_train_nt.drop('YSVL',inplace=True,axis=1)\n",
    "X_test_nt.drop('YSVL',inplace=True,axis=1)"
   ]
  },
  {
   "cell_type": "code",
   "execution_count": 748,
   "metadata": {},
   "outputs": [
    {
     "name": "stderr",
     "output_type": "stream",
     "text": [
      "/Users/gonzaloferreiro/anaconda3/lib/python3.6/site-packages/sklearn/preprocessing/data.py:625: DataConversionWarning: Data with input dtype uint8, float64 were all converted to float64 by StandardScaler.\n",
      "  return self.partial_fit(X, y)\n",
      "/Users/gonzaloferreiro/anaconda3/lib/python3.6/site-packages/ipykernel_launcher.py:2: DataConversionWarning: Data with input dtype uint8, float64 were all converted to float64 by StandardScaler.\n",
      "  \n",
      "/Users/gonzaloferreiro/anaconda3/lib/python3.6/site-packages/ipykernel_launcher.py:3: DataConversionWarning: Data with input dtype uint8, float64 were all converted to float64 by StandardScaler.\n",
      "  This is separate from the ipykernel package so we can avoid doing imports until\n"
     ]
    }
   ],
   "source": [
    "scaler.fit(X_train_nt)\n",
    "X_train_nt = scaler.transform(X_train_nt)\n",
    "X_test_nt = scaler.transform(X_test_nt)"
   ]
  },
  {
   "cell_type": "code",
   "execution_count": 749,
   "metadata": {},
   "outputs": [],
   "source": [
    "logistic_regression_nt = LogisticRegression(max_iter = 500)"
   ]
  },
  {
   "cell_type": "code",
   "execution_count": 750,
   "metadata": {},
   "outputs": [],
   "source": [
    "params_nt = {'penalty': ['l2'],\n",
    "         'solver': ['lbfgs'],\n",
    "         'C': [10,50,100,125],\n",
    "         'multi_class': ['multinomial']}"
   ]
  },
  {
   "cell_type": "code",
   "execution_count": 751,
   "metadata": {},
   "outputs": [],
   "source": [
    "logistic_grid_nt = GridSearchCV(logistic_regression_nt, params_nt, cv=5, n_jobs=3)"
   ]
  },
  {
   "cell_type": "code",
   "execution_count": 752,
   "metadata": {},
   "outputs": [
    {
     "data": {
      "text/plain": [
       "GridSearchCV(cv=5, error_score='raise-deprecating',\n",
       "       estimator=LogisticRegression(C=1.0, class_weight=None, dual=False, fit_intercept=True,\n",
       "          intercept_scaling=1, max_iter=500, multi_class='warn',\n",
       "          n_jobs=None, penalty='l2', random_state=None, solver='warn',\n",
       "          tol=0.0001, verbose=0, warm_start=False),\n",
       "       fit_params=None, iid='warn', n_jobs=3,\n",
       "       param_grid={'penalty': ['l2'], 'solver': ['lbfgs'], 'C': [10, 50, 100, 125], 'multi_class': ['multinomial']},\n",
       "       pre_dispatch='2*n_jobs', refit=True, return_train_score='warn',\n",
       "       scoring=None, verbose=0)"
      ]
     },
     "execution_count": 752,
     "metadata": {},
     "output_type": "execute_result"
    }
   ],
   "source": [
    "logistic_grid_nt.fit(X_train_nt, y_train_nt)"
   ]
  },
  {
   "cell_type": "code",
   "execution_count": 753,
   "metadata": {},
   "outputs": [
    {
     "data": {
      "text/plain": [
       "{'C': 100, 'multi_class': 'multinomial', 'penalty': 'l2', 'solver': 'lbfgs'}"
      ]
     },
     "execution_count": 753,
     "metadata": {},
     "output_type": "execute_result"
    }
   ],
   "source": [
    "logistic_grid_nt.best_params_"
   ]
  },
  {
   "cell_type": "code",
   "execution_count": 754,
   "metadata": {},
   "outputs": [],
   "source": [
    "log_test_pred_nt = logistic_grid_nt.predict(X_test_nt)"
   ]
  },
  {
   "cell_type": "code",
   "execution_count": 755,
   "metadata": {},
   "outputs": [
    {
     "name": "stdout",
     "output_type": "stream",
     "text": [
      "              precision    recall  f1-score   support\n",
      "\n",
      "           0       0.63      0.67      0.65       651\n",
      "           1       0.38      0.37      0.37       651\n",
      "           2       0.34      0.31      0.33       651\n",
      "           3       0.40      0.39      0.40       651\n",
      "           4       0.67      0.72      0.70       650\n",
      "\n",
      "   micro avg       0.49      0.49      0.49      3254\n",
      "   macro avg       0.48      0.49      0.49      3254\n",
      "weighted avg       0.48      0.49      0.49      3254\n",
      "\n"
     ]
    }
   ],
   "source": [
    "print(metrics.classification_report(y_test_nt,log_test_pred_nt))"
   ]
  },
  {
   "cell_type": "code",
   "execution_count": 756,
   "metadata": {},
   "outputs": [
    {
     "data": {
      "image/png": "[encoded data removed]",
      "text/plain": [
       "<Figure size 432x288 with 2 Axes>"
      ]
     },
     "metadata": {
      "needs_background": "light"
     },
     "output_type": "display_data"
    }
   ],
   "source": [
    "skplt.metrics.plot_confusion_matrix(y_test_nt, log_test_pred_nt)\n",
    "plt.show()"
   ]
  },
  {
   "cell_type": "code",
   "execution_count": 761,
   "metadata": {},
   "outputs": [],
   "source": [
    "impact = ['neg' if x < 0 else 'pos' for x in logistic_grid_nt.best_estimator_.coef_[0]]"
   ]
  },
  {
   "cell_type": "code",
   "execution_count": 767,
   "metadata": {},
   "outputs": [],
   "source": [
    "coefs_nt = pd.DataFrame({'feature': df_fil_dum.iloc[:,1:].columns,\n",
    "                        'Low class': logistic_grid_nt.best_estimator_.coef_[0],\n",
    "                        'Low-middle class': logistic_grid_nt.best_estimator_.coef_[1],\n",
    "                        'Middle class': logistic_grid_nt.best_estimator_.coef_[2],\n",
    "                        'High-middle class': logistic_grid_nt.best_estimator_.coef_[3],\n",
    "                        'High class': logistic_grid_nt.best_estimator_.coef_[4]})"
   ]
  },
  {
   "cell_type": "code",
   "execution_count": 771,
   "metadata": {},
   "outputs": [
    {
     "data": {
      "text/html": [
       "<div>\n",
       "<style scoped>\n",
       "    .dataframe tbody tr th:only-of-type {\n",
       "        vertical-align: middle;\n",
       "    }\n",
       "\n",
       "    .dataframe tbody tr th {\n",
       "        vertical-align: top;\n",
       "    }\n",
       "\n",
       "    .dataframe thead th {\n",
       "        text-align: right;\n",
       "    }\n",
       "</style>\n",
       "<table border=\"1\" class=\"dataframe\">\n",
       "  <thead>\n",
       "    <tr style=\"text-align: right;\">\n",
       "      <th></th>\n",
       "      <th>feature</th>\n",
       "      <th>Low class</th>\n",
       "      <th>Low-middle class</th>\n",
       "      <th>Middle class</th>\n",
       "      <th>High-middle class</th>\n",
       "      <th>High class</th>\n",
       "    </tr>\n",
       "  </thead>\n",
       "  <tbody>\n",
       "    <tr>\n",
       "      <th>79</th>\n",
       "      <td>d21_16_2.0</td>\n",
       "      <td>-2.156002</td>\n",
       "      <td>0.396939</td>\n",
       "      <td>1.119694</td>\n",
       "      <td>0.607497</td>\n",
       "      <td>0.031872</td>\n",
       "    </tr>\n",
       "    <tr>\n",
       "      <th>80</th>\n",
       "      <td>d21_16_1_1.0</td>\n",
       "      <td>-1.391786</td>\n",
       "      <td>1.276897</td>\n",
       "      <td>0.037431</td>\n",
       "      <td>0.055082</td>\n",
       "      <td>0.022376</td>\n",
       "    </tr>\n",
       "    <tr>\n",
       "      <th>83</th>\n",
       "      <td>d21_16_2_2.0</td>\n",
       "      <td>-1.095199</td>\n",
       "      <td>-0.996381</td>\n",
       "      <td>1.216464</td>\n",
       "      <td>0.731081</td>\n",
       "      <td>0.144036</td>\n",
       "    </tr>\n",
       "    <tr>\n",
       "      <th>142</th>\n",
       "      <td>d25_clean_4.0</td>\n",
       "      <td>-1.081684</td>\n",
       "      <td>-0.419907</td>\n",
       "      <td>0.116513</td>\n",
       "      <td>0.529539</td>\n",
       "      <td>0.855539</td>\n",
       "    </tr>\n",
       "    <tr>\n",
       "      <th>141</th>\n",
       "      <td>d25_clean_3.0</td>\n",
       "      <td>-0.931924</td>\n",
       "      <td>-0.386748</td>\n",
       "      <td>0.057379</td>\n",
       "      <td>0.474419</td>\n",
       "      <td>0.786874</td>\n",
       "    </tr>\n",
       "    <tr>\n",
       "      <th>143</th>\n",
       "      <td>d25_clean_5.0</td>\n",
       "      <td>-0.892789</td>\n",
       "      <td>-0.302538</td>\n",
       "      <td>0.061988</td>\n",
       "      <td>0.402861</td>\n",
       "      <td>0.730478</td>\n",
       "    </tr>\n",
       "    <tr>\n",
       "      <th>82</th>\n",
       "      <td>d21_16_2_1.0</td>\n",
       "      <td>-0.838475</td>\n",
       "      <td>-0.686228</td>\n",
       "      <td>0.797579</td>\n",
       "      <td>0.526202</td>\n",
       "      <td>0.200923</td>\n",
       "    </tr>\n",
       "    <tr>\n",
       "      <th>140</th>\n",
       "      <td>d25_clean_2.0</td>\n",
       "      <td>-0.714442</td>\n",
       "      <td>-0.293400</td>\n",
       "      <td>0.070991</td>\n",
       "      <td>0.333919</td>\n",
       "      <td>0.602933</td>\n",
       "    </tr>\n",
       "    <tr>\n",
       "      <th>144</th>\n",
       "      <td>d25_clean_6.0</td>\n",
       "      <td>-0.573487</td>\n",
       "      <td>-0.232463</td>\n",
       "      <td>0.056242</td>\n",
       "      <td>0.303508</td>\n",
       "      <td>0.446200</td>\n",
       "    </tr>\n",
       "    <tr>\n",
       "      <th>132</th>\n",
       "      <td>d21_18_1_clean_+3</td>\n",
       "      <td>-0.569967</td>\n",
       "      <td>0.132634</td>\n",
       "      <td>0.099525</td>\n",
       "      <td>0.114856</td>\n",
       "      <td>0.222952</td>\n",
       "    </tr>\n",
       "    <tr>\n",
       "      <th>145</th>\n",
       "      <td>d25_clean_+7</td>\n",
       "      <td>-0.556725</td>\n",
       "      <td>-0.224900</td>\n",
       "      <td>0.036765</td>\n",
       "      <td>0.253679</td>\n",
       "      <td>0.491180</td>\n",
       "    </tr>\n",
       "    <tr>\n",
       "      <th>113</th>\n",
       "      <td>d21_5_1_clean_+5</td>\n",
       "      <td>-0.525323</td>\n",
       "      <td>-0.532333</td>\n",
       "      <td>0.315991</td>\n",
       "      <td>0.335946</td>\n",
       "      <td>0.405719</td>\n",
       "    </tr>\n",
       "    <tr>\n",
       "      <th>81</th>\n",
       "      <td>d21_16_1_2.0</td>\n",
       "      <td>-0.483647</td>\n",
       "      <td>0.592715</td>\n",
       "      <td>-0.004355</td>\n",
       "      <td>-0.040875</td>\n",
       "      <td>-0.063838</td>\n",
       "    </tr>\n",
       "    <tr>\n",
       "      <th>89</th>\n",
       "      <td>d8_2_cleann_&gt;30000</td>\n",
       "      <td>-0.430870</td>\n",
       "      <td>-0.454021</td>\n",
       "      <td>0.231526</td>\n",
       "      <td>0.256982</td>\n",
       "      <td>0.396384</td>\n",
       "    </tr>\n",
       "    <tr>\n",
       "      <th>118</th>\n",
       "      <td>d21_14_1_clean_+5</td>\n",
       "      <td>-0.395850</td>\n",
       "      <td>-0.520240</td>\n",
       "      <td>0.259987</td>\n",
       "      <td>0.301276</td>\n",
       "      <td>0.354827</td>\n",
       "    </tr>\n",
       "  </tbody>\n",
       "</table>\n",
       "</div>"
      ],
      "text/plain": [
       "                feature  Low class  Low-middle class  Middle class  \\\n",
       "79           d21_16_2.0  -2.156002          0.396939      1.119694   \n",
       "80         d21_16_1_1.0  -1.391786          1.276897      0.037431   \n",
       "83         d21_16_2_2.0  -1.095199         -0.996381      1.216464   \n",
       "142       d25_clean_4.0  -1.081684         -0.419907      0.116513   \n",
       "141       d25_clean_3.0  -0.931924         -0.386748      0.057379   \n",
       "143       d25_clean_5.0  -0.892789         -0.302538      0.061988   \n",
       "82         d21_16_2_1.0  -0.838475         -0.686228      0.797579   \n",
       "140       d25_clean_2.0  -0.714442         -0.293400      0.070991   \n",
       "144       d25_clean_6.0  -0.573487         -0.232463      0.056242   \n",
       "132   d21_18_1_clean_+3  -0.569967          0.132634      0.099525   \n",
       "145        d25_clean_+7  -0.556725         -0.224900      0.036765   \n",
       "113    d21_5_1_clean_+5  -0.525323         -0.532333      0.315991   \n",
       "81         d21_16_1_2.0  -0.483647          0.592715     -0.004355   \n",
       "89   d8_2_cleann_>30000  -0.430870         -0.454021      0.231526   \n",
       "118   d21_14_1_clean_+5  -0.395850         -0.520240      0.259987   \n",
       "\n",
       "     High-middle class  High class  \n",
       "79            0.607497    0.031872  \n",
       "80            0.055082    0.022376  \n",
       "83            0.731081    0.144036  \n",
       "142           0.529539    0.855539  \n",
       "141           0.474419    0.786874  \n",
       "143           0.402861    0.730478  \n",
       "82            0.526202    0.200923  \n",
       "140           0.333919    0.602933  \n",
       "144           0.303508    0.446200  \n",
       "132           0.114856    0.222952  \n",
       "145           0.253679    0.491180  \n",
       "113           0.335946    0.405719  \n",
       "81           -0.040875   -0.063838  \n",
       "89            0.256982    0.396384  \n",
       "118           0.301276    0.354827  "
      ]
     },
     "execution_count": 771,
     "metadata": {},
     "output_type": "execute_result"
    }
   ],
   "source": [
    "coefs_nt.sort_values(by='Low class',ascending=True).head(15)"
   ]
  },
  {
   "cell_type": "code",
   "execution_count": 796,
   "metadata": {},
   "outputs": [],
   "source": [
    "coefs = pd.DataFrame({'feature': df_fil_dum.columns,\n",
    "                        'Low class': logistic_grid.best_estimator_.coef_[0],\n",
    "                        'Low-middle class': logistic_grid.best_estimator_.coef_[1],\n",
    "                        'Middle class': logistic_grid.best_estimator_.coef_[2],\n",
    "                        'High-middle class': logistic_grid.best_estimator_.coef_[3],\n",
    "                        'High class': logistic_grid.best_estimator_.coef_[4]})"
   ]
  },
  {
   "cell_type": "code",
   "execution_count": 798,
   "metadata": {},
   "outputs": [
    {
     "data": {
      "text/html": [
       "<div>\n",
       "<style scoped>\n",
       "    .dataframe tbody tr th:only-of-type {\n",
       "        vertical-align: middle;\n",
       "    }\n",
       "\n",
       "    .dataframe tbody tr th {\n",
       "        vertical-align: top;\n",
       "    }\n",
       "\n",
       "    .dataframe thead th {\n",
       "        text-align: right;\n",
       "    }\n",
       "</style>\n",
       "<table border=\"1\" class=\"dataframe\">\n",
       "  <thead>\n",
       "    <tr style=\"text-align: right;\">\n",
       "      <th></th>\n",
       "      <th>feature</th>\n",
       "      <th>Low class</th>\n",
       "      <th>Low-middle class</th>\n",
       "      <th>Middle class</th>\n",
       "      <th>High-middle class</th>\n",
       "      <th>High class</th>\n",
       "    </tr>\n",
       "  </thead>\n",
       "  <tbody>\n",
       "    <tr>\n",
       "      <th>92</th>\n",
       "      <td>d8_3_clean_p30</td>\n",
       "      <td>1.163429</td>\n",
       "      <td>0.756117</td>\n",
       "      <td>0.084124</td>\n",
       "      <td>-0.629360</td>\n",
       "      <td>-1.374310</td>\n",
       "    </tr>\n",
       "    <tr>\n",
       "      <th>81</th>\n",
       "      <td>d21_16_1_1.0</td>\n",
       "      <td>1.160200</td>\n",
       "      <td>-1.488178</td>\n",
       "      <td>0.132598</td>\n",
       "      <td>-0.250288</td>\n",
       "      <td>0.445667</td>\n",
       "    </tr>\n",
       "    <tr>\n",
       "      <th>91</th>\n",
       "      <td>d8_3_clean_p15</td>\n",
       "      <td>1.092258</td>\n",
       "      <td>0.605377</td>\n",
       "      <td>-0.014117</td>\n",
       "      <td>-0.725827</td>\n",
       "      <td>-0.957690</td>\n",
       "    </tr>\n",
       "    <tr>\n",
       "      <th>93</th>\n",
       "      <td>d8_3_clean_p45</td>\n",
       "      <td>0.877890</td>\n",
       "      <td>0.623817</td>\n",
       "      <td>0.101306</td>\n",
       "      <td>-0.408832</td>\n",
       "      <td>-1.194182</td>\n",
       "    </tr>\n",
       "    <tr>\n",
       "      <th>94</th>\n",
       "      <td>d8_3_clean_p60</td>\n",
       "      <td>0.692834</td>\n",
       "      <td>0.471612</td>\n",
       "      <td>0.085319</td>\n",
       "      <td>-0.309154</td>\n",
       "      <td>-0.940610</td>\n",
       "    </tr>\n",
       "    <tr>\n",
       "      <th>86</th>\n",
       "      <td>c6_clean_1</td>\n",
       "      <td>0.617183</td>\n",
       "      <td>0.644446</td>\n",
       "      <td>-0.472131</td>\n",
       "      <td>-0.328913</td>\n",
       "      <td>-0.460585</td>\n",
       "    </tr>\n",
       "    <tr>\n",
       "      <th>29</th>\n",
       "      <td>d8_1_4.0</td>\n",
       "      <td>0.529226</td>\n",
       "      <td>0.395333</td>\n",
       "      <td>0.195065</td>\n",
       "      <td>0.042025</td>\n",
       "      <td>-1.161651</td>\n",
       "    </tr>\n",
       "    <tr>\n",
       "      <th>87</th>\n",
       "      <td>c6_clean_2</td>\n",
       "      <td>0.492660</td>\n",
       "      <td>0.607712</td>\n",
       "      <td>-0.448133</td>\n",
       "      <td>-0.326115</td>\n",
       "      <td>-0.326124</td>\n",
       "    </tr>\n",
       "    <tr>\n",
       "      <th>82</th>\n",
       "      <td>d21_16_1_2.0</td>\n",
       "      <td>0.490673</td>\n",
       "      <td>-0.586655</td>\n",
       "      <td>0.055017</td>\n",
       "      <td>-0.133108</td>\n",
       "      <td>0.174073</td>\n",
       "    </tr>\n",
       "    <tr>\n",
       "      <th>95</th>\n",
       "      <td>d8_3_clean_p90</td>\n",
       "      <td>0.434529</td>\n",
       "      <td>0.296414</td>\n",
       "      <td>0.006877</td>\n",
       "      <td>-0.159934</td>\n",
       "      <td>-0.577886</td>\n",
       "    </tr>\n",
       "    <tr>\n",
       "      <th>98</th>\n",
       "      <td>d9_clean_4.0</td>\n",
       "      <td>0.371967</td>\n",
       "      <td>0.313637</td>\n",
       "      <td>0.267641</td>\n",
       "      <td>-0.338359</td>\n",
       "      <td>-0.614887</td>\n",
       "    </tr>\n",
       "    <tr>\n",
       "      <th>80</th>\n",
       "      <td>d21_16_2.0</td>\n",
       "      <td>0.329655</td>\n",
       "      <td>-0.980271</td>\n",
       "      <td>0.761662</td>\n",
       "      <td>0.427789</td>\n",
       "      <td>-0.538835</td>\n",
       "    </tr>\n",
       "    <tr>\n",
       "      <th>99</th>\n",
       "      <td>d9_clean_5.0</td>\n",
       "      <td>0.329029</td>\n",
       "      <td>0.268075</td>\n",
       "      <td>0.206448</td>\n",
       "      <td>-0.282084</td>\n",
       "      <td>-0.521469</td>\n",
       "    </tr>\n",
       "    <tr>\n",
       "      <th>143</th>\n",
       "      <td>d25_clean_4.0</td>\n",
       "      <td>0.293358</td>\n",
       "      <td>0.196618</td>\n",
       "      <td>0.044851</td>\n",
       "      <td>-0.177927</td>\n",
       "      <td>-0.356900</td>\n",
       "    </tr>\n",
       "    <tr>\n",
       "      <th>144</th>\n",
       "      <td>d25_clean_5.0</td>\n",
       "      <td>0.289415</td>\n",
       "      <td>0.156372</td>\n",
       "      <td>-0.015506</td>\n",
       "      <td>-0.171806</td>\n",
       "      <td>-0.258475</td>\n",
       "    </tr>\n",
       "  </tbody>\n",
       "</table>\n",
       "</div>"
      ],
      "text/plain": [
       "            feature  Low class  Low-middle class  Middle class  \\\n",
       "92   d8_3_clean_p30   1.163429          0.756117      0.084124   \n",
       "81     d21_16_1_1.0   1.160200         -1.488178      0.132598   \n",
       "91   d8_3_clean_p15   1.092258          0.605377     -0.014117   \n",
       "93   d8_3_clean_p45   0.877890          0.623817      0.101306   \n",
       "94   d8_3_clean_p60   0.692834          0.471612      0.085319   \n",
       "86       c6_clean_1   0.617183          0.644446     -0.472131   \n",
       "29         d8_1_4.0   0.529226          0.395333      0.195065   \n",
       "87       c6_clean_2   0.492660          0.607712     -0.448133   \n",
       "82     d21_16_1_2.0   0.490673         -0.586655      0.055017   \n",
       "95   d8_3_clean_p90   0.434529          0.296414      0.006877   \n",
       "98     d9_clean_4.0   0.371967          0.313637      0.267641   \n",
       "80       d21_16_2.0   0.329655         -0.980271      0.761662   \n",
       "99     d9_clean_5.0   0.329029          0.268075      0.206448   \n",
       "143   d25_clean_4.0   0.293358          0.196618      0.044851   \n",
       "144   d25_clean_5.0   0.289415          0.156372     -0.015506   \n",
       "\n",
       "     High-middle class  High class  \n",
       "92           -0.629360   -1.374310  \n",
       "81           -0.250288    0.445667  \n",
       "91           -0.725827   -0.957690  \n",
       "93           -0.408832   -1.194182  \n",
       "94           -0.309154   -0.940610  \n",
       "86           -0.328913   -0.460585  \n",
       "29            0.042025   -1.161651  \n",
       "87           -0.326115   -0.326124  \n",
       "82           -0.133108    0.174073  \n",
       "95           -0.159934   -0.577886  \n",
       "98           -0.338359   -0.614887  \n",
       "80            0.427789   -0.538835  \n",
       "99           -0.282084   -0.521469  \n",
       "143          -0.177927   -0.356900  \n",
       "144          -0.171806   -0.258475  "
      ]
     },
     "execution_count": 798,
     "metadata": {},
     "output_type": "execute_result"
    }
   ],
   "source": [
    "coefs.sort_values(by='Low class',ascending=False).head(15)"
   ]
  },
  {
   "cell_type": "markdown",
   "metadata": {},
   "source": [
    "## Clustering"
   ]
  },
  {
   "cell_type": "markdown",
   "metadata": {},
   "source": [
    "### K-Means"
   ]
  },
  {
   "cell_type": "code",
   "execution_count": 433,
   "metadata": {},
   "outputs": [],
   "source": [
    "from sklearn.cluster import KMeans\n",
    "from scikitplot.cluster import plot_elbow_curve\n",
    "from scikitplot.metrics import plot_silhouette"
   ]
  },
  {
   "cell_type": "code",
   "execution_count": 435,
   "metadata": {},
   "outputs": [],
   "source": [
    "k_cluster = KMeans(n_clusters=5, random_state=123)\n",
    "k_cluster.fit(df_scal)\n",
    "labels = k_cluster.labels_"
   ]
  },
  {
   "cell_type": "code",
   "execution_count": 436,
   "metadata": {},
   "outputs": [
    {
     "data": {
      "image/png": "[encoded data removed]",
      "text/plain": [
       "<Figure size 432x288 with 2 Axes>"
      ]
     },
     "metadata": {
      "needs_background": "light"
     },
     "output_type": "display_data"
    }
   ],
   "source": [
    "plot_elbow_curve(k_cluster, df_scal, cluster_ranges=range(1,20))\n",
    "plt.show()"
   ]
  },
  {
   "cell_type": "code",
   "execution_count": 434,
   "metadata": {},
   "outputs": [
    {
     "name": "stdout",
     "output_type": "stream",
     "text": [
      "number of clusters:  3\n"
     ]
    },
    {
     "data": {
      "image/png": "[encoded data removed]",
      "text/plain": [
       "<Figure size 432x288 with 1 Axes>"
      ]
     },
     "metadata": {
      "needs_background": "light"
     },
     "output_type": "display_data"
    },
    {
     "name": "stdout",
     "output_type": "stream",
     "text": [
      "number of clusters:  4\n"
     ]
    },
    {
     "data": {
      "image/png": "[encoded data removed]",
      "text/plain": [
       "<Figure size 432x288 with 1 Axes>"
      ]
     },
     "metadata": {
      "needs_background": "light"
     },
     "output_type": "display_data"
    },
    {
     "name": "stdout",
     "output_type": "stream",
     "text": [
      "number of clusters:  5\n"
     ]
    },
    {
     "data": {
      "image/png": "[encoded data removed]",
      "text/plain": [
       "<Figure size 432x288 with 1 Axes>"
      ]
     },
     "metadata": {
      "needs_background": "light"
     },
     "output_type": "display_data"
    },
    {
     "name": "stdout",
     "output_type": "stream",
     "text": [
      "number of clusters:  6\n"
     ]
    },
    {
     "data": {
      "image/png": "[encoded data removed]",
      "text/plain": [
       "<Figure size 432x288 with 1 Axes>"
      ]
     },
     "metadata": {
      "needs_background": "light"
     },
     "output_type": "display_data"
    },
    {
     "name": "stdout",
     "output_type": "stream",
     "text": [
      "number of clusters:  7\n"
     ]
    },
    {
     "data": {
      "image/png": "[encoded data removed]",
      "text/plain": [
       "<Figure size 432x288 with 1 Axes>"
      ]
     },
     "metadata": {
      "needs_background": "light"
     },
     "output_type": "display_data"
    }
   ],
   "source": [
    "for k in range(3, 8):\n",
    "    print('number of clusters: ', k)\n",
    "    model = KMeans(n_clusters=k)\n",
    "    model.fit(df_scal)\n",
    "    labels = model.labels_\n",
    "    plot_silhouette(df_scal, labels)\n",
    "    plt.show()"
   ]
  },
  {
   "cell_type": "code",
   "execution_count": 437,
   "metadata": {},
   "outputs": [
    {
     "data": {
      "text/plain": [
       "0.15614999099112126"
      ]
     },
     "execution_count": 437,
     "metadata": {},
     "output_type": "execute_result"
    }
   ],
   "source": [
    "from sklearn.metrics import completeness_score\n",
    "completeness_score(y, labels)"
   ]
  },
  {
   "cell_type": "code",
   "execution_count": 438,
   "metadata": {
    "scrolled": true
   },
   "outputs": [
    {
     "data": {
      "text/plain": [
       "0.12123155586822917"
      ]
     },
     "execution_count": 438,
     "metadata": {},
     "output_type": "execute_result"
    }
   ],
   "source": [
    "from sklearn.metrics import homogeneity_score\n",
    "homogeneity_score(y, labels)"
   ]
  },
  {
   "cell_type": "markdown",
   "metadata": {},
   "source": [
    "### Hierarchical Clustering"
   ]
  },
  {
   "cell_type": "code",
   "execution_count": 439,
   "metadata": {},
   "outputs": [],
   "source": [
    "from sklearn.cluster import AgglomerativeClustering"
   ]
  },
  {
   "cell_type": "code",
   "execution_count": 456,
   "metadata": {},
   "outputs": [],
   "source": [
    "h_cluster = AgglomerativeClustering(n_clusters=5,\n",
    "                                   affinity='cosine',\n",
    "                                   linkage='complete')\n",
    "\n",
    "h_cluster.fit(df_scal)\n",
    "labels = h_cluster.labels_"
   ]
  },
  {
   "cell_type": "code",
   "execution_count": 457,
   "metadata": {},
   "outputs": [
    {
     "data": {
      "text/plain": [
       "0.0646274463696023"
      ]
     },
     "execution_count": 457,
     "metadata": {},
     "output_type": "execute_result"
    }
   ],
   "source": [
    "completeness_score(y, labels)"
   ]
  },
  {
   "cell_type": "code",
   "execution_count": 458,
   "metadata": {},
   "outputs": [
    {
     "data": {
      "text/plain": [
       "0.059687574556502164"
      ]
     },
     "execution_count": 458,
     "metadata": {},
     "output_type": "execute_result"
    }
   ],
   "source": [
    "homogeneity_score(y, labels)"
   ]
  },
  {
   "cell_type": "code",
   "execution_count": null,
   "metadata": {},
   "outputs": [],
   "source": []
  }
 ],
 "metadata": {
  "kernelspec": {
   "display_name": "Python 3",
   "language": "python",
   "name": "python3"
  },
  "language_info": {
   "codemirror_mode": {
    "name": "ipython",
    "version": 3
   },
   "file_extension": ".py",
   "mimetype": "text/x-python",
   "name": "python",
   "nbconvert_exporter": "python",
   "pygments_lexer": "ipython3",
   "version": "3.6.8"
  }
 },
 "nbformat": 4,
 "nbformat_minor": 2
}
